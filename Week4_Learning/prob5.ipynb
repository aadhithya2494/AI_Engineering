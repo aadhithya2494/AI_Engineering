{
 "cells": [
  {
   "cell_type": "code",
   "execution_count": 2,
   "id": "9decfac7",
   "metadata": {},
   "outputs": [],
   "source": [
    "import pandas as pd"
   ]
  },
  {
   "cell_type": "markdown",
   "id": "31a11706",
   "metadata": {},
   "source": [
    "1. Creates a DataFrame with the following data:\n",
    "TestCase Status Duration\n",
    "TC1 Passed 12\n",
    "TC2 Failed 15\n",
    "TC3 Passed 20\n",
    "TC4 Failed 18\n",
    "TC5 Passed 25"
   ]
  },
  {
   "cell_type": "code",
   "execution_count": 3,
   "id": "bea4611c",
   "metadata": {},
   "outputs": [],
   "source": [
    "data = {\n",
    "    'TestCase': ['TC1', 'TC2', 'TC3', 'TC4', 'TC5'],\n",
    "    'Status': ['Passed', 'Failed', 'Passed', 'Failed', 'Passed'],\n",
    "    'Duration': [12, 15, 20, 18, 25]\n",
    "}\n",
    "df = pd.DataFrame(data)"
   ]
  },
  {
   "cell_type": "markdown",
   "id": "9ddab3a9",
   "metadata": {},
   "source": [
    "\n",
    "2. Prints the DataFrame."
   ]
  },
  {
   "cell_type": "code",
   "execution_count": 4,
   "id": "0b3f234a",
   "metadata": {},
   "outputs": [
    {
     "name": "stdout",
     "output_type": "stream",
     "text": [
      "  TestCase  Status  Duration\n",
      "0      TC1  Passed        12\n",
      "1      TC2  Failed        15\n",
      "2      TC3  Passed        20\n",
      "3      TC4  Failed        18\n",
      "4      TC5  Passed        25\n"
     ]
    }
   ],
   "source": [
    "print(df)"
   ]
  },
  {
   "cell_type": "markdown",
   "id": "25f13d04",
   "metadata": {},
   "source": [
    "\n",
    "3. Selects and prints only the Status column."
   ]
  },
  {
   "cell_type": "code",
   "execution_count": 6,
   "id": "5c9bb47f",
   "metadata": {},
   "outputs": [
    {
     "name": "stdout",
     "output_type": "stream",
     "text": [
      "0    Passed\n",
      "1    Failed\n",
      "2    Passed\n",
      "3    Failed\n",
      "4    Passed\n",
      "Name: Status, dtype: object\n"
     ]
    }
   ],
   "source": [
    "print(df['Status'])"
   ]
  },
  {
   "cell_type": "markdown",
   "id": "a6dcc6b0",
   "metadata": {},
   "source": [
    "\n",
    "4. Filters and prints only Failed test cases."
   ]
  },
  {
   "cell_type": "code",
   "execution_count": 11,
   "id": "2f91fdbf",
   "metadata": {},
   "outputs": [
    {
     "name": "stdout",
     "output_type": "stream",
     "text": [
      "  TestCase  Status  Duration\n",
      "1      TC2  Failed        15\n",
      "3      TC4  Failed        18\n"
     ]
    }
   ],
   "source": [
    "df1 = df[df['Status']=='Failed']\n",
    "print(df1)"
   ]
  },
  {
   "cell_type": "markdown",
   "id": "f0a20d43",
   "metadata": {},
   "source": [
    "\n",
    "5. Saves the DataFrame as test_results.csv."
   ]
  },
  {
   "cell_type": "code",
   "execution_count": 14,
   "id": "3f6b8460",
   "metadata": {},
   "outputs": [],
   "source": [
    "df1.to_csv('test_results.csv', index=False)"
   ]
  },
  {
   "cell_type": "markdown",
   "id": "60c01664",
   "metadata": {},
   "source": [
    "\n",
    "6. Reads back the CSV into a new DataFrame."
   ]
  },
  {
   "cell_type": "code",
   "execution_count": 15,
   "id": "67140504",
   "metadata": {},
   "outputs": [
    {
     "name": "stdout",
     "output_type": "stream",
     "text": [
      "  TestCase  Status  Duration\n",
      "0      TC2  Failed        15\n",
      "1      TC4  Failed        18\n"
     ]
    }
   ],
   "source": [
    "df2 = pd.read_csv('test_results.csv')\n",
    "print(df2)"
   ]
  }
 ],
 "metadata": {
  "kernelspec": {
   "display_name": "base",
   "language": "python",
   "name": "python3"
  },
  "language_info": {
   "codemirror_mode": {
    "name": "ipython",
    "version": 3
   },
   "file_extension": ".py",
   "mimetype": "text/x-python",
   "name": "python",
   "nbconvert_exporter": "python",
   "pygments_lexer": "ipython3",
   "version": "3.12.4"
  }
 },
 "nbformat": 4,
 "nbformat_minor": 5
}
