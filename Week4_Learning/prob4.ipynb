{
 "cells": [
  {
   "cell_type": "code",
   "execution_count": 1,
   "id": "16b1d426",
   "metadata": {},
   "outputs": [],
   "source": [
    "import numpy as np\n",
    "import pandas as pd"
   ]
  },
  {
   "cell_type": "code",
   "execution_count": 2,
   "id": "b0457609",
   "metadata": {},
   "outputs": [
    {
     "name": "stdout",
     "output_type": "stream",
     "text": [
      "   Array1  Array2\n",
      "0      10      30\n",
      "1      20      40\n",
      "2      30      50\n",
      "================================\n"
     ]
    }
   ],
   "source": [
    "npDataframe = pd.DataFrame({\n",
    "    'Array1': np.array([10, 20, 30]),\n",
    "    'Array2': np.array([30, 40, 50])\n",
    "})\n",
    "\n",
    "print(npDataframe)\n",
    "print(\"================================\")"
   ]
  },
  {
   "cell_type": "code",
   "execution_count": 3,
   "id": "66a7201b",
   "metadata": {},
   "outputs": [
    {
     "name": "stdout",
     "output_type": "stream",
     "text": [
      "   Series1  Series2\n",
      "0      100    400.0\n",
      "1      200    500.0\n",
      "2      300      NaN\n",
      "================================\n"
     ]
    }
   ],
   "source": [
    "seriesDataframe = pd.DataFrame({\n",
    "    'Series1': pd.Series([100, 200, 300]),\n",
    "    'Series2': pd.Series([400, 500])\n",
    "})\n",
    "print(seriesDataframe)\n",
    "print(\"================================\")"
   ]
  },
  {
   "cell_type": "code",
   "execution_count": 4,
   "id": "1588407e",
   "metadata": {},
   "outputs": [
    {
     "name": "stdout",
     "output_type": "stream",
     "text": [
      "   Mani  Alex\n",
      "0    10  20.0\n",
      "1    20  30.0\n",
      "2    30   NaN\n",
      "================================\n"
     ]
    }
   ],
   "source": [
    "dictDataframe = pd.DataFrame({\n",
    "    'Mani': pd.Series([10, 20, 30]),\n",
    "    'Alex': pd.Series([20, 30])\n",
    "})\n",
    "print(dictDataframe)\n",
    "print(\"================================\")"
   ]
  },
  {
   "cell_type": "code",
   "execution_count": 5,
   "id": "eb400bf3",
   "metadata": {},
   "outputs": [
    {
     "name": "stdout",
     "output_type": "stream",
     "text": [
      "  TestCase   Module  Status  Duration\n",
      "0      TC1    Login  Passed        12\n",
      "1      TC2    Login  Failed        15\n",
      "2      TC3  Payment  Passed        20\n",
      "3      TC4  Payment  Failed        18\n",
      "4      TC5  Reports  Passed        25\n",
      "5      TC6  Reports  Passed        22\n",
      "================================\n"
     ]
    }
   ],
   "source": [
    "data = {\n",
    "    'TestCase': ['TC1', 'TC2', 'TC3', 'TC4', 'TC5', 'TC6'],\n",
    "    'Module': ['Login', 'Login', 'Payment', 'Payment', 'Reports', 'Reports'],\n",
    "    'Status': ['Passed', 'Failed', 'Passed', 'Failed', 'Passed', 'Passed'],\n",
    "    'Duration': [12, 15, 20, 18, 25, 22]\n",
    "}   \n",
    "\n",
    "df = pd.DataFrame(data)\n",
    "print(df)\n",
    "print(\"================================\")"
   ]
  },
  {
   "cell_type": "code",
   "execution_count": 6,
   "id": "3e985022",
   "metadata": {},
   "outputs": [
    {
     "name": "stdout",
     "output_type": "stream",
     "text": [
      "Status\n",
      "Failed    2\n",
      "Passed    4\n",
      "dtype: int64\n",
      "================================\n"
     ]
    }
   ],
   "source": [
    "st_count = df.groupby('Status').size()\n",
    "print(st_count)\n",
    "print(\"================================\")"
   ]
  },
  {
   "cell_type": "code",
   "execution_count": 7,
   "id": "51ce6d3d",
   "metadata": {},
   "outputs": [
    {
     "name": "stdout",
     "output_type": "stream",
     "text": [
      "Module\n",
      "Login      13.5\n",
      "Payment    19.0\n",
      "Reports    23.5\n",
      "Name: Duration, dtype: float64\n",
      "================================\n"
     ]
    }
   ],
   "source": [
    "avg_dur = df.groupby('Module')['Duration'].mean()\n",
    "print(avg_dur)\n",
    "print(\"================================\")"
   ]
  },
  {
   "cell_type": "code",
   "execution_count": 9,
   "id": "a39269d6",
   "metadata": {},
   "outputs": [],
   "source": [
    "data = {\n",
    "    'DefectID': ['D1', 'D2', 'D3', 'D4', 'D5'],\n",
    "    'Module': ['Login', 'Payment', 'Reports', 'Login', 'Payment'],\n",
    "    'Severity': ['High', 'Medium', 'Low', 'High', 'Medium'],\n",
    "    'Status': ['Open', 'Closed', 'Open', 'Closed', 'Open']\n",
    "}\n",
    "df = pd.DataFrame(data)"
   ]
  },
  {
   "cell_type": "code",
   "execution_count": 10,
   "id": "2610ffeb",
   "metadata": {},
   "outputs": [
    {
     "name": "stdout",
     "output_type": "stream",
     "text": [
      "  DefectID   Module Severity Status\n",
      "0       D1    Login     High   Open\n",
      "2       D3  Reports      Low   Open\n",
      "4       D5  Payment   Medium   Open\n"
     ]
    }
   ],
   "source": [
    "print(df[df['Status'] == 'Open'])"
   ]
  },
  {
   "cell_type": "code",
   "execution_count": 11,
   "id": "7acb06e2",
   "metadata": {},
   "outputs": [
    {
     "name": "stdout",
     "output_type": "stream",
     "text": [
      "  DefectID Module Severity  Status\n",
      "0       D1  Login     High    Open\n",
      "3       D4  Login     High  Closed\n"
     ]
    }
   ],
   "source": [
    "print(df[df['Severity'] == 'High'])"
   ]
  },
  {
   "cell_type": "code",
   "execution_count": 12,
   "id": "0f28c14c",
   "metadata": {},
   "outputs": [
    {
     "name": "stdout",
     "output_type": "stream",
     "text": [
      "Status\n",
      "Closed    2\n",
      "Open      3\n",
      "dtype: int64\n"
     ]
    }
   ],
   "source": [
    "print(df.groupby('Status').size())"
   ]
  },
  {
   "cell_type": "code",
   "execution_count": 13,
   "id": "12cf0ba7",
   "metadata": {},
   "outputs": [
    {
     "name": "stdout",
     "output_type": "stream",
     "text": [
      "Status\n",
      "Closed    2\n",
      "Open      3\n",
      "Name: Status, dtype: int64\n"
     ]
    }
   ],
   "source": [
    "print(df.groupby('Status')['Status'].count())"
   ]
  },
  {
   "cell_type": "code",
   "execution_count": 16,
   "id": "f05c7be1",
   "metadata": {},
   "outputs": [],
   "source": [
    "data = {\n",
    "    'DefectID': ['D1', 'D2', 'D3', 'D4', 'D5'],\n",
    "    'Module': ['Login', 'Payment', 'Reports', 'Login',None],\n",
    "    'Severity': ['High', 'Medium', 'Low', 'High', 'Medium'],\n",
    "    'Status': ['Open', 'Closed', 'Open', 'Closed', 'Open']\n",
    "}\n",
    "df = pd.DataFrame(data)"
   ]
  },
  {
   "cell_type": "code",
   "execution_count": 17,
   "id": "dd6a1d75",
   "metadata": {},
   "outputs": [
    {
     "name": "stdout",
     "output_type": "stream",
     "text": [
      "Status\n",
      "Closed    2\n",
      "Open      3\n",
      "Name: Status, dtype: int64\n"
     ]
    }
   ],
   "source": [
    "print(df.groupby('Status')['Status'].count())"
   ]
  },
  {
   "cell_type": "code",
   "execution_count": 18,
   "id": "f585266d",
   "metadata": {},
   "outputs": [
    {
     "name": "stdout",
     "output_type": "stream",
     "text": [
      "Status\n",
      "Closed    2\n",
      "Open      2\n",
      "Name: Module, dtype: int64\n"
     ]
    }
   ],
   "source": [
    "print(df.groupby('Status')['Module'].count())"
   ]
  }
 ],
 "metadata": {
  "kernelspec": {
   "display_name": "base",
   "language": "python",
   "name": "python3"
  },
  "language_info": {
   "codemirror_mode": {
    "name": "ipython",
    "version": 3
   },
   "file_extension": ".py",
   "mimetype": "text/x-python",
   "name": "python",
   "nbconvert_exporter": "python",
   "pygments_lexer": "ipython3",
   "version": "3.12.4"
  }
 },
 "nbformat": 4,
 "nbformat_minor": 5
}
