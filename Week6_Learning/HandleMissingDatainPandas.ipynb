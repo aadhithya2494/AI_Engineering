{
 "cells": [
  {
   "cell_type": "code",
   "execution_count": 9,
   "id": "ae057a4a",
   "metadata": {},
   "outputs": [
    {
     "name": "stdout",
     "output_type": "stream",
     "text": [
      "  TestCase   Module  Status  Duration  Defects\n",
      "0      TC1    Login  Passed      12.0      0.0\n",
      "1      TC2    Login  Failed       NaN      2.0\n",
      "2      TC3  Payment  Passed      20.0      NaN\n",
      "3      TC4  Payment  Failed      18.0      3.0\n",
      "4      TC5  Reports    None      25.0      0.0\n"
     ]
    }
   ],
   "source": [
    "import pandas as pd\n",
    "\n",
    "data = {\n",
    "    \"TestCase\": [\"TC1\", \"TC2\", \"TC3\", \"TC4\", \"TC5\"],\n",
    "    \"Module\": [\"Login\", \"Login\", \"Payment\", \"Payment\", \"Reports\"],\n",
    "    \"Status\": [\"Passed\", \"Failed\", \"Passed\", \"Failed\", None],\n",
    "    \"Duration\": [12, None, 20, 18, 25],\n",
    "    \"Defects\": [0, 2, None, 3, 0]\n",
    "}\n",
    "\n",
    "df = pd.DataFrame(data)\n",
    "print(df)"
   ]
  },
  {
   "cell_type": "markdown",
   "id": "9e0b8774",
   "metadata": {},
   "source": [
    "Use .isnull().sum() to count missing values in each column. \n",
    "\n",
    "Use .fillna(value) to:\n",
    "\n",
    "Replace missing Duration with the mean duration.\n",
    "\n",
    "ReplacemissingStatuswith\"Unknown\".\n",
    "\n",
    "Use .dropna() to drop any row that still contains missing values. \n",
    "\n",
    "Print the cleaned DataFrame."
   ]
  },
  {
   "cell_type": "code",
   "execution_count": 10,
   "id": "d2493d80",
   "metadata": {},
   "outputs": [
    {
     "data": {
      "text/plain": [
       "TestCase    0\n",
       "Module      0\n",
       "Status      1\n",
       "Duration    1\n",
       "Defects     1\n",
       "dtype: int64"
      ]
     },
     "execution_count": 10,
     "metadata": {},
     "output_type": "execute_result"
    }
   ],
   "source": [
    "df.isnull().sum()"
   ]
  },
  {
   "cell_type": "code",
   "execution_count": 11,
   "id": "d0321ae4",
   "metadata": {},
   "outputs": [
    {
     "name": "stdout",
     "output_type": "stream",
     "text": [
      "  TestCase   Module   Status  Duration  Defects\n",
      "0      TC1    Login   Passed     12.00      0.0\n",
      "1      TC2    Login   Failed     18.75      2.0\n",
      "2      TC3  Payment   Passed     20.00      NaN\n",
      "3      TC4  Payment   Failed     18.00      3.0\n",
      "4      TC5  Reports  Unknown     25.00      0.0\n"
     ]
    }
   ],
   "source": [
    "df.fillna({\n",
    "    \"Duration\": df[\"Duration\"].mean(),\n",
    "    \"Status\": \"Unknown\"\n",
    "}, inplace=True)\n",
    "print(df)"
   ]
  },
  {
   "cell_type": "code",
   "execution_count": 12,
   "id": "30169b19",
   "metadata": {},
   "outputs": [
    {
     "name": "stdout",
     "output_type": "stream",
     "text": [
      "\n",
      "Cleaned dataset:\n",
      "  TestCase   Module   Status  Duration  Defects\n",
      "0      TC1    Login   Passed     12.00      0.0\n",
      "1      TC2    Login   Failed     18.75      2.0\n",
      "3      TC4  Payment   Failed     18.00      3.0\n",
      "4      TC5  Reports  Unknown     25.00      0.0\n"
     ]
    }
   ],
   "source": [
    "df.dropna(subset=[\"Defects\"], inplace=True)\n",
    "print(\"\\nCleaned dataset:\")\n",
    "print(df)"
   ]
  }
 ],
 "metadata": {
  "kernelspec": {
   "display_name": "base",
   "language": "python",
   "name": "python3"
  },
  "language_info": {
   "codemirror_mode": {
    "name": "ipython",
    "version": 3
   },
   "file_extension": ".py",
   "mimetype": "text/x-python",
   "name": "python",
   "nbconvert_exporter": "python",
   "pygments_lexer": "ipython3",
   "version": "3.12.4"
  }
 },
 "nbformat": 4,
 "nbformat_minor": 5
}
