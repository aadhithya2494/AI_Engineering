{
 "cells": [
  {
   "cell_type": "code",
   "execution_count": 1,
   "id": "d502ac58",
   "metadata": {},
   "outputs": [],
   "source": [
    "import pandas as pd\n"
   ]
  },
  {
   "cell_type": "code",
   "execution_count": 2,
   "id": "5236ae62",
   "metadata": {},
   "outputs": [],
   "source": [
    "data = pd.read_csv('SalesDataset.csv')\n",
    "\n",
    "df = pd.DataFrame(data)"
   ]
  },
  {
   "cell_type": "code",
   "execution_count": 3,
   "id": "91022d9c",
   "metadata": {},
   "outputs": [
    {
     "data": {
      "text/html": [
       "<div>\n",
       "<style scoped>\n",
       "    .dataframe tbody tr th:only-of-type {\n",
       "        vertical-align: middle;\n",
       "    }\n",
       "\n",
       "    .dataframe tbody tr th {\n",
       "        vertical-align: top;\n",
       "    }\n",
       "\n",
       "    .dataframe thead th {\n",
       "        text-align: right;\n",
       "    }\n",
       "</style>\n",
       "<table border=\"1\" class=\"dataframe\">\n",
       "  <thead>\n",
       "    <tr style=\"text-align: right;\">\n",
       "      <th></th>\n",
       "      <th>Unnamed: 0</th>\n",
       "      <th>Date</th>\n",
       "      <th>Gender</th>\n",
       "      <th>Age</th>\n",
       "      <th>Product Category</th>\n",
       "      <th>Quantity</th>\n",
       "      <th>Price per Unit</th>\n",
       "      <th>Total Amount</th>\n",
       "    </tr>\n",
       "  </thead>\n",
       "  <tbody>\n",
       "    <tr>\n",
       "      <th>0</th>\n",
       "      <td>0</td>\n",
       "      <td>24-11-2023</td>\n",
       "      <td>Male</td>\n",
       "      <td>34</td>\n",
       "      <td>Beauty</td>\n",
       "      <td>3</td>\n",
       "      <td>50</td>\n",
       "      <td>150</td>\n",
       "    </tr>\n",
       "    <tr>\n",
       "      <th>1</th>\n",
       "      <td>1</td>\n",
       "      <td>27-02-2023</td>\n",
       "      <td>Female</td>\n",
       "      <td>26</td>\n",
       "      <td>Clothing</td>\n",
       "      <td>2</td>\n",
       "      <td>500</td>\n",
       "      <td>1000</td>\n",
       "    </tr>\n",
       "    <tr>\n",
       "      <th>2</th>\n",
       "      <td>2</td>\n",
       "      <td>13-01-2023</td>\n",
       "      <td>Male</td>\n",
       "      <td>50</td>\n",
       "      <td>Electronics</td>\n",
       "      <td>1</td>\n",
       "      <td>30</td>\n",
       "      <td>30</td>\n",
       "    </tr>\n",
       "    <tr>\n",
       "      <th>3</th>\n",
       "      <td>3</td>\n",
       "      <td>21-05-2023</td>\n",
       "      <td>Male</td>\n",
       "      <td>37</td>\n",
       "      <td>Clothing</td>\n",
       "      <td>1</td>\n",
       "      <td>500</td>\n",
       "      <td>500</td>\n",
       "    </tr>\n",
       "    <tr>\n",
       "      <th>4</th>\n",
       "      <td>4</td>\n",
       "      <td>06-05-2023</td>\n",
       "      <td>Male</td>\n",
       "      <td>30</td>\n",
       "      <td>Beauty</td>\n",
       "      <td>2</td>\n",
       "      <td>50</td>\n",
       "      <td>100</td>\n",
       "    </tr>\n",
       "  </tbody>\n",
       "</table>\n",
       "</div>"
      ],
      "text/plain": [
       "   Unnamed: 0        Date  Gender  Age Product Category  Quantity  \\\n",
       "0           0  24-11-2023    Male   34           Beauty         3   \n",
       "1           1  27-02-2023  Female   26         Clothing         2   \n",
       "2           2  13-01-2023    Male   50      Electronics         1   \n",
       "3           3  21-05-2023    Male   37         Clothing         1   \n",
       "4           4  06-05-2023    Male   30           Beauty         2   \n",
       "\n",
       "   Price per Unit  Total Amount  \n",
       "0              50           150  \n",
       "1             500          1000  \n",
       "2              30            30  \n",
       "3             500           500  \n",
       "4              50           100  "
      ]
     },
     "execution_count": 3,
     "metadata": {},
     "output_type": "execute_result"
    }
   ],
   "source": [
    "df.head()"
   ]
  },
  {
   "cell_type": "code",
   "execution_count": 4,
   "id": "b7b0746f",
   "metadata": {},
   "outputs": [
    {
     "data": {
      "text/html": [
       "<div>\n",
       "<style scoped>\n",
       "    .dataframe tbody tr th:only-of-type {\n",
       "        vertical-align: middle;\n",
       "    }\n",
       "\n",
       "    .dataframe tbody tr th {\n",
       "        vertical-align: top;\n",
       "    }\n",
       "\n",
       "    .dataframe thead th {\n",
       "        text-align: right;\n",
       "    }\n",
       "</style>\n",
       "<table border=\"1\" class=\"dataframe\">\n",
       "  <thead>\n",
       "    <tr style=\"text-align: right;\">\n",
       "      <th></th>\n",
       "      <th>Unnamed: 0</th>\n",
       "      <th>Age</th>\n",
       "      <th>Quantity</th>\n",
       "      <th>Price per Unit</th>\n",
       "      <th>Total Amount</th>\n",
       "    </tr>\n",
       "  </thead>\n",
       "  <tbody>\n",
       "    <tr>\n",
       "      <th>count</th>\n",
       "      <td>1007.000000</td>\n",
       "      <td>1007.000000</td>\n",
       "      <td>1007.000000</td>\n",
       "      <td>1007.000000</td>\n",
       "      <td>1007.000000</td>\n",
       "    </tr>\n",
       "    <tr>\n",
       "      <th>mean</th>\n",
       "      <td>503.000000</td>\n",
       "      <td>41.443893</td>\n",
       "      <td>3.064548</td>\n",
       "      <td>179.235353</td>\n",
       "      <td>520.456802</td>\n",
       "    </tr>\n",
       "    <tr>\n",
       "      <th>std</th>\n",
       "      <td>290.840162</td>\n",
       "      <td>13.713070</td>\n",
       "      <td>10.497032</td>\n",
       "      <td>189.231104</td>\n",
       "      <td>1198.266782</td>\n",
       "    </tr>\n",
       "    <tr>\n",
       "      <th>min</th>\n",
       "      <td>0.000000</td>\n",
       "      <td>18.000000</td>\n",
       "      <td>1.000000</td>\n",
       "      <td>25.000000</td>\n",
       "      <td>25.000000</td>\n",
       "    </tr>\n",
       "    <tr>\n",
       "      <th>25%</th>\n",
       "      <td>251.500000</td>\n",
       "      <td>30.000000</td>\n",
       "      <td>1.000000</td>\n",
       "      <td>30.000000</td>\n",
       "      <td>60.000000</td>\n",
       "    </tr>\n",
       "    <tr>\n",
       "      <th>50%</th>\n",
       "      <td>503.000000</td>\n",
       "      <td>42.000000</td>\n",
       "      <td>3.000000</td>\n",
       "      <td>50.000000</td>\n",
       "      <td>150.000000</td>\n",
       "    </tr>\n",
       "    <tr>\n",
       "      <th>75%</th>\n",
       "      <td>754.500000</td>\n",
       "      <td>53.000000</td>\n",
       "      <td>4.000000</td>\n",
       "      <td>300.000000</td>\n",
       "      <td>900.000000</td>\n",
       "    </tr>\n",
       "    <tr>\n",
       "      <th>max</th>\n",
       "      <td>1006.000000</td>\n",
       "      <td>78.000000</td>\n",
       "      <td>300.000000</td>\n",
       "      <td>500.000000</td>\n",
       "      <td>30000.000000</td>\n",
       "    </tr>\n",
       "  </tbody>\n",
       "</table>\n",
       "</div>"
      ],
      "text/plain": [
       "        Unnamed: 0          Age     Quantity  Price per Unit  Total Amount\n",
       "count  1007.000000  1007.000000  1007.000000     1007.000000   1007.000000\n",
       "mean    503.000000    41.443893     3.064548      179.235353    520.456802\n",
       "std     290.840162    13.713070    10.497032      189.231104   1198.266782\n",
       "min       0.000000    18.000000     1.000000       25.000000     25.000000\n",
       "25%     251.500000    30.000000     1.000000       30.000000     60.000000\n",
       "50%     503.000000    42.000000     3.000000       50.000000    150.000000\n",
       "75%     754.500000    53.000000     4.000000      300.000000    900.000000\n",
       "max    1006.000000    78.000000   300.000000      500.000000  30000.000000"
      ]
     },
     "execution_count": 4,
     "metadata": {},
     "output_type": "execute_result"
    }
   ],
   "source": [
    "df.describe()"
   ]
  },
  {
   "cell_type": "markdown",
   "id": "68e15d1e",
   "metadata": {},
   "source": [
    "For the give data set using IQR technique  \n",
    "\n",
    "a) find out the outliers and write it to CSV \n",
    "\n",
    "b) write the cleaned data to CSV by excluding the outliers"
   ]
  },
  {
   "cell_type": "code",
   "execution_count": 5,
   "id": "1f8b8937",
   "metadata": {},
   "outputs": [
    {
     "name": "stdout",
     "output_type": "stream",
     "text": [
      "0.25 =  60.0\n",
      "0.75 =  900.0\n"
     ]
    }
   ],
   "source": [
    "p025 = df['Total Amount'].quantile(0.25)\n",
    "p075 = df['Total Amount'].quantile(0.75)\n",
    "print('0.25 = ',p025)\n",
    "print('0.75 = ',p075)"
   ]
  },
  {
   "cell_type": "code",
   "execution_count": 6,
   "id": "bd20bbf4",
   "metadata": {},
   "outputs": [
    {
     "name": "stdout",
     "output_type": "stream",
     "text": [
      "840.0\n"
     ]
    }
   ],
   "source": [
    "IQR = p075 - p025\n",
    "print(IQR)"
   ]
  },
  {
   "cell_type": "code",
   "execution_count": 7,
   "id": "b274d9c6",
   "metadata": {},
   "outputs": [],
   "source": [
    "lower_bound = p025 - 1.5 * IQR\n",
    "upper_bound = p075 + 1.5 * IQR"
   ]
  },
  {
   "cell_type": "code",
   "execution_count": 8,
   "id": "20d54482",
   "metadata": {},
   "outputs": [
    {
     "name": "stdout",
     "output_type": "stream",
     "text": [
      "\n",
      "Outliers detected:\n",
      "      Unnamed: 0        Date  Gender  Age Product Category  Quantity  \\\n",
      "446          446  06-07-2023    Male   22           Beauty         4   \n",
      "1000        1000  12-04-2023    Male   47         Clothing        10   \n",
      "1001        1001  12-04-2023    Male   35         Clothing        10   \n",
      "1002        1002  12-04-2023  Female   46           Beauty       300   \n",
      "1003        1003  12-04-2023  Female   78           Beauty       100   \n",
      "1005        1005  12-04-2023    Male   35      Electronics       100   \n",
      "1006        1006  12-04-2023    Male   67         Clothing        50   \n",
      "\n",
      "      Price per Unit  Total Amount  \n",
      "446              500          5000  \n",
      "1000              50          5000  \n",
      "1001              50          5000  \n",
      "1002             100         30000  \n",
      "1003             100         10000  \n",
      "1005              50          5000  \n",
      "1006             200         10000  \n"
     ]
    }
   ],
   "source": [
    "outliers = df[(df['Total Amount'] < lower_bound) | (df['Total Amount'] > upper_bound)]\n",
    "print(\"\\nOutliers detected:\")\n",
    "print(outliers)"
   ]
  },
  {
   "cell_type": "code",
   "execution_count": 9,
   "id": "04284e47",
   "metadata": {},
   "outputs": [],
   "source": [
    "outliers.to_csv('Outliers.csv', index=False)"
   ]
  },
  {
   "cell_type": "code",
   "execution_count": 10,
   "id": "47f3c299",
   "metadata": {},
   "outputs": [],
   "source": [
    "df_cleaned = df.drop(outliers.index)"
   ]
  },
  {
   "cell_type": "code",
   "execution_count": 11,
   "id": "ed7b5928",
   "metadata": {},
   "outputs": [],
   "source": [
    "df_cleaned.to_csv('cleaned_data.csv', index=False)"
   ]
  }
 ],
 "metadata": {
  "kernelspec": {
   "display_name": "base",
   "language": "python",
   "name": "python3"
  },
  "language_info": {
   "codemirror_mode": {
    "name": "ipython",
    "version": 3
   },
   "file_extension": ".py",
   "mimetype": "text/x-python",
   "name": "python",
   "nbconvert_exporter": "python",
   "pygments_lexer": "ipython3",
   "version": "3.12.4"
  }
 },
 "nbformat": 4,
 "nbformat_minor": 5
}
