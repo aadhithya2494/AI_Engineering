{
 "cells": [
  {
   "cell_type": "code",
   "execution_count": 18,
   "id": "021622b1",
   "metadata": {},
   "outputs": [
    {
     "data": {
      "text/html": [
       "<div>\n",
       "<style scoped>\n",
       "    .dataframe tbody tr th:only-of-type {\n",
       "        vertical-align: middle;\n",
       "    }\n",
       "\n",
       "    .dataframe tbody tr th {\n",
       "        vertical-align: top;\n",
       "    }\n",
       "\n",
       "    .dataframe thead th {\n",
       "        text-align: right;\n",
       "    }\n",
       "</style>\n",
       "<table border=\"1\" class=\"dataframe\">\n",
       "  <thead>\n",
       "    <tr style=\"text-align: right;\">\n",
       "      <th></th>\n",
       "      <th>Unnamed: 0</th>\n",
       "      <th>Age</th>\n",
       "      <th>Quantity</th>\n",
       "      <th>Price per Unit</th>\n",
       "      <th>Total Amount</th>\n",
       "    </tr>\n",
       "  </thead>\n",
       "  <tbody>\n",
       "    <tr>\n",
       "      <th>count</th>\n",
       "      <td>1000.000000</td>\n",
       "      <td>1000.00000</td>\n",
       "      <td>1000.000000</td>\n",
       "      <td>1000.000000</td>\n",
       "      <td>1000.00000</td>\n",
       "    </tr>\n",
       "    <tr>\n",
       "      <th>mean</th>\n",
       "      <td>499.500000</td>\n",
       "      <td>41.39200</td>\n",
       "      <td>2.514000</td>\n",
       "      <td>179.890000</td>\n",
       "      <td>459.00000</td>\n",
       "    </tr>\n",
       "    <tr>\n",
       "      <th>std</th>\n",
       "      <td>288.819436</td>\n",
       "      <td>13.68143</td>\n",
       "      <td>1.132734</td>\n",
       "      <td>189.681356</td>\n",
       "      <td>576.08213</td>\n",
       "    </tr>\n",
       "    <tr>\n",
       "      <th>min</th>\n",
       "      <td>0.000000</td>\n",
       "      <td>18.00000</td>\n",
       "      <td>1.000000</td>\n",
       "      <td>25.000000</td>\n",
       "      <td>25.00000</td>\n",
       "    </tr>\n",
       "    <tr>\n",
       "      <th>25%</th>\n",
       "      <td>249.750000</td>\n",
       "      <td>29.00000</td>\n",
       "      <td>1.000000</td>\n",
       "      <td>30.000000</td>\n",
       "      <td>60.00000</td>\n",
       "    </tr>\n",
       "    <tr>\n",
       "      <th>50%</th>\n",
       "      <td>499.500000</td>\n",
       "      <td>42.00000</td>\n",
       "      <td>3.000000</td>\n",
       "      <td>50.000000</td>\n",
       "      <td>135.00000</td>\n",
       "    </tr>\n",
       "    <tr>\n",
       "      <th>75%</th>\n",
       "      <td>749.250000</td>\n",
       "      <td>53.00000</td>\n",
       "      <td>4.000000</td>\n",
       "      <td>300.000000</td>\n",
       "      <td>900.00000</td>\n",
       "    </tr>\n",
       "    <tr>\n",
       "      <th>max</th>\n",
       "      <td>999.000000</td>\n",
       "      <td>64.00000</td>\n",
       "      <td>4.000000</td>\n",
       "      <td>500.000000</td>\n",
       "      <td>5000.00000</td>\n",
       "    </tr>\n",
       "  </tbody>\n",
       "</table>\n",
       "</div>"
      ],
      "text/plain": [
       "        Unnamed: 0         Age     Quantity  Price per Unit  Total Amount\n",
       "count  1000.000000  1000.00000  1000.000000     1000.000000    1000.00000\n",
       "mean    499.500000    41.39200     2.514000      179.890000     459.00000\n",
       "std     288.819436    13.68143     1.132734      189.681356     576.08213\n",
       "min       0.000000    18.00000     1.000000       25.000000      25.00000\n",
       "25%     249.750000    29.00000     1.000000       30.000000      60.00000\n",
       "50%     499.500000    42.00000     3.000000       50.000000     135.00000\n",
       "75%     749.250000    53.00000     4.000000      300.000000     900.00000\n",
       "max     999.000000    64.00000     4.000000      500.000000    5000.00000"
      ]
     },
     "execution_count": 18,
     "metadata": {},
     "output_type": "execute_result"
    }
   ],
   "source": [
    "import pandas as pd\n",
    "\n",
    "data = pd.read_csv('SalesDataset.csv')\n",
    "df = pd.DataFrame(data)\n",
    "\n",
    "df.describe()"
   ]
  },
  {
   "cell_type": "code",
   "execution_count": 28,
   "id": "401ceb07",
   "metadata": {},
   "outputs": [
    {
     "data": {
      "text/html": [
       "<div>\n",
       "<style scoped>\n",
       "    .dataframe tbody tr th:only-of-type {\n",
       "        vertical-align: middle;\n",
       "    }\n",
       "\n",
       "    .dataframe tbody tr th {\n",
       "        vertical-align: top;\n",
       "    }\n",
       "\n",
       "    .dataframe thead th {\n",
       "        text-align: right;\n",
       "    }\n",
       "</style>\n",
       "<table border=\"1\" class=\"dataframe\">\n",
       "  <thead>\n",
       "    <tr style=\"text-align: right;\">\n",
       "      <th></th>\n",
       "      <th>Unnamed: 0</th>\n",
       "      <th>Date</th>\n",
       "      <th>Gender</th>\n",
       "      <th>Age</th>\n",
       "      <th>Product Category</th>\n",
       "      <th>Quantity</th>\n",
       "      <th>Price per Unit</th>\n",
       "      <th>Total Amount</th>\n",
       "    </tr>\n",
       "  </thead>\n",
       "  <tbody>\n",
       "    <tr>\n",
       "      <th>0</th>\n",
       "      <td>0</td>\n",
       "      <td>24-11-2023</td>\n",
       "      <td>Male</td>\n",
       "      <td>34</td>\n",
       "      <td>Beauty</td>\n",
       "      <td>3</td>\n",
       "      <td>50</td>\n",
       "      <td>150</td>\n",
       "    </tr>\n",
       "    <tr>\n",
       "      <th>1</th>\n",
       "      <td>1</td>\n",
       "      <td>27-02-2023</td>\n",
       "      <td>Female</td>\n",
       "      <td>26</td>\n",
       "      <td>Clothing</td>\n",
       "      <td>2</td>\n",
       "      <td>500</td>\n",
       "      <td>1000</td>\n",
       "    </tr>\n",
       "    <tr>\n",
       "      <th>2</th>\n",
       "      <td>2</td>\n",
       "      <td>13-01-2023</td>\n",
       "      <td>Male</td>\n",
       "      <td>50</td>\n",
       "      <td>Electronics</td>\n",
       "      <td>1</td>\n",
       "      <td>30</td>\n",
       "      <td>30</td>\n",
       "    </tr>\n",
       "    <tr>\n",
       "      <th>3</th>\n",
       "      <td>3</td>\n",
       "      <td>21-05-2023</td>\n",
       "      <td>Male</td>\n",
       "      <td>37</td>\n",
       "      <td>Clothing</td>\n",
       "      <td>1</td>\n",
       "      <td>500</td>\n",
       "      <td>500</td>\n",
       "    </tr>\n",
       "    <tr>\n",
       "      <th>4</th>\n",
       "      <td>4</td>\n",
       "      <td>06-05-2023</td>\n",
       "      <td>Male</td>\n",
       "      <td>30</td>\n",
       "      <td>Beauty</td>\n",
       "      <td>2</td>\n",
       "      <td>50</td>\n",
       "      <td>100</td>\n",
       "    </tr>\n",
       "    <tr>\n",
       "      <th>5</th>\n",
       "      <td>5</td>\n",
       "      <td>25-04-2023</td>\n",
       "      <td>Female</td>\n",
       "      <td>45</td>\n",
       "      <td>Beauty</td>\n",
       "      <td>1</td>\n",
       "      <td>30</td>\n",
       "      <td>30</td>\n",
       "    </tr>\n",
       "    <tr>\n",
       "      <th>6</th>\n",
       "      <td>6</td>\n",
       "      <td>13-03-2023</td>\n",
       "      <td>Male</td>\n",
       "      <td>46</td>\n",
       "      <td>Clothing</td>\n",
       "      <td>2</td>\n",
       "      <td>25</td>\n",
       "      <td>50</td>\n",
       "    </tr>\n",
       "    <tr>\n",
       "      <th>7</th>\n",
       "      <td>7</td>\n",
       "      <td>22-02-2023</td>\n",
       "      <td>Male</td>\n",
       "      <td>30</td>\n",
       "      <td>Electronics</td>\n",
       "      <td>4</td>\n",
       "      <td>25</td>\n",
       "      <td>100</td>\n",
       "    </tr>\n",
       "    <tr>\n",
       "      <th>8</th>\n",
       "      <td>8</td>\n",
       "      <td>13-12-2023</td>\n",
       "      <td>Male</td>\n",
       "      <td>63</td>\n",
       "      <td>Electronics</td>\n",
       "      <td>2</td>\n",
       "      <td>300</td>\n",
       "      <td>600</td>\n",
       "    </tr>\n",
       "    <tr>\n",
       "      <th>9</th>\n",
       "      <td>9</td>\n",
       "      <td>07-10-2023</td>\n",
       "      <td>Female</td>\n",
       "      <td>52</td>\n",
       "      <td>Clothing</td>\n",
       "      <td>4</td>\n",
       "      <td>50</td>\n",
       "      <td>200</td>\n",
       "    </tr>\n",
       "  </tbody>\n",
       "</table>\n",
       "</div>"
      ],
      "text/plain": [
       "   Unnamed: 0        Date  Gender  Age Product Category  Quantity  \\\n",
       "0           0  24-11-2023    Male   34           Beauty         3   \n",
       "1           1  27-02-2023  Female   26         Clothing         2   \n",
       "2           2  13-01-2023    Male   50      Electronics         1   \n",
       "3           3  21-05-2023    Male   37         Clothing         1   \n",
       "4           4  06-05-2023    Male   30           Beauty         2   \n",
       "5           5  25-04-2023  Female   45           Beauty         1   \n",
       "6           6  13-03-2023    Male   46         Clothing         2   \n",
       "7           7  22-02-2023    Male   30      Electronics         4   \n",
       "8           8  13-12-2023    Male   63      Electronics         2   \n",
       "9           9  07-10-2023  Female   52         Clothing         4   \n",
       "\n",
       "   Price per Unit  Total Amount  \n",
       "0              50           150  \n",
       "1             500          1000  \n",
       "2              30            30  \n",
       "3             500           500  \n",
       "4              50           100  \n",
       "5              30            30  \n",
       "6              25            50  \n",
       "7              25           100  \n",
       "8             300           600  \n",
       "9              50           200  "
      ]
     },
     "execution_count": 28,
     "metadata": {},
     "output_type": "execute_result"
    }
   ],
   "source": [
    "df.head(10)"
   ]
  },
  {
   "cell_type": "markdown",
   "id": "09fe8c55",
   "metadata": {},
   "source": [
    "25th percentile of the Total Amount?"
   ]
  },
  {
   "cell_type": "code",
   "execution_count": 20,
   "id": "09f37251",
   "metadata": {},
   "outputs": [
    {
     "name": "stdout",
     "output_type": "stream",
     "text": [
      "25th Percentile of Total_Amount: 60.0\n"
     ]
    }
   ],
   "source": [
    "total_amnt_25percentile = df['Total Amount'].quantile(0.25)\n",
    "print(f\"25th Percentile of Total_Amount: {total_amnt_25percentile}\")"
   ]
  },
  {
   "cell_type": "markdown",
   "id": "1e33f30c",
   "metadata": {},
   "source": [
    "median (50th percentile) of the Total Amount?"
   ]
  },
  {
   "cell_type": "code",
   "execution_count": 21,
   "id": "adefa439",
   "metadata": {},
   "outputs": [
    {
     "name": "stdout",
     "output_type": "stream",
     "text": [
      "50th Percentile of Total_Amount: 135.0\n"
     ]
    }
   ],
   "source": [
    "total_amnt_50percentile = df['Total Amount'].quantile(0.5)\n",
    "print(f\"50th Percentile of Total_Amount: {total_amnt_50percentile}\")"
   ]
  },
  {
   "cell_type": "markdown",
   "id": "c14aad27",
   "metadata": {},
   "source": [
    "75th percentile of the Total Amount?"
   ]
  },
  {
   "cell_type": "code",
   "execution_count": 22,
   "id": "3a358058",
   "metadata": {},
   "outputs": [
    {
     "name": "stdout",
     "output_type": "stream",
     "text": [
      "75th Percentile of Total_Amount: 900.0\n"
     ]
    }
   ],
   "source": [
    "total_amnt_75percentile = df['Total Amount'].quantile(0.75)\n",
    "print(f\"75th Percentile of Total_Amount: {total_amnt_75percentile}\")"
   ]
  },
  {
   "cell_type": "markdown",
   "id": "5d4bd8fa",
   "metadata": {},
   "source": [
    "variance in Total Amount across all transactions?"
   ]
  },
  {
   "cell_type": "code",
   "execution_count": 23,
   "id": "3165b1e6",
   "metadata": {},
   "outputs": [
    {
     "name": "stdout",
     "output_type": "stream",
     "text": [
      "Variance of Total_Amount: 331870.6206206206\n"
     ]
    }
   ],
   "source": [
    "total_amnt_variance = df['Total Amount'].var()\n",
    "print(f\"Variance of Total_Amount: {total_amnt_variance}\")"
   ]
  },
  {
   "cell_type": "markdown",
   "id": "e3cb5277",
   "metadata": {},
   "source": [
    "variance in Quantity sold?"
   ]
  },
  {
   "cell_type": "code",
   "execution_count": 24,
   "id": "ec2818b7",
   "metadata": {},
   "outputs": [
    {
     "name": "stdout",
     "output_type": "stream",
     "text": [
      "Variance of Quantity: 1.2830870870870983\n"
     ]
    }
   ],
   "source": [
    "quantity_variance = df['Quantity'].var()\n",
    "print(f\"Variance of Quantity: {quantity_variance}\")"
   ]
  },
  {
   "cell_type": "code",
   "execution_count": 25,
   "id": "7505b569",
   "metadata": {},
   "outputs": [],
   "source": [
    "corr_df = df.drop(columns=['Date', 'Gender', 'Product Category','Unnamed: 0'])"
   ]
  },
  {
   "cell_type": "code",
   "execution_count": 26,
   "id": "f7d19ac6",
   "metadata": {},
   "outputs": [
    {
     "name": "stdout",
     "output_type": "stream",
     "text": [
      "Correlation Matrix:\n",
      "                     Age  Quantity  Price per Unit  Total Amount\n",
      "Age             1.000000 -0.023737       -0.038423     -0.066266\n",
      "Quantity       -0.023737  1.000000        0.017501      0.370111\n",
      "Price per Unit -0.038423  0.017501        1.000000      0.836936\n",
      "Total Amount   -0.066266  0.370111        0.836936      1.000000\n"
     ]
    }
   ],
   "source": [
    "correlation_matrix = corr_df.corr()\n",
    "print(\"Correlation Matrix:\")\n",
    "print(correlation_matrix)"
   ]
  },
  {
   "cell_type": "markdown",
   "id": "4febd4dd",
   "metadata": {},
   "source": [
    "correlation between Age and Total Amount? - **Negative Correlation**\n",
    "\n",
    "correlation between Quantity and Total Amount? - **Positive Correlation**\n",
    "\n",
    "correlation between Price per Unit and Total Amount?  - **Positive Correlation**"
   ]
  },
  {
   "cell_type": "code",
   "execution_count": 29,
   "id": "f57a63ab",
   "metadata": {},
   "outputs": [
    {
     "data": {
      "image/png": "[encoded data removed]",
      "text/plain": [
       "<Figure size 640x480 with 2 Axes>"
      ]
     },
     "metadata": {},
     "output_type": "display_data"
    }
   ],
   "source": [
    "import seaborn as sns\n",
    "import matplotlib.pyplot as plt\n",
    "\n",
    "sns.heatmap(correlation_matrix, annot=True, cmap='coolwarm')\n",
    "plt.title('Correlation Matrix Heatmap')\n",
    "plt.show()"
   ]
  }
 ],
 "metadata": {
  "kernelspec": {
   "display_name": "base",
   "language": "python",
   "name": "python3"
  },
  "language_info": {
   "codemirror_mode": {
    "name": "ipython",
    "version": 3
   },
   "file_extension": ".py",
   "mimetype": "text/x-python",
   "name": "python",
   "nbconvert_exporter": "python",
   "pygments_lexer": "ipython3",
   "version": "3.12.4"
  }
 },
 "nbformat": 4,
 "nbformat_minor": 5
}
