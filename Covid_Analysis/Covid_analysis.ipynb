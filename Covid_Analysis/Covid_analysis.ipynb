{
 "cells": [
  {
   "cell_type": "markdown",
   "id": "92f95d5d",
   "metadata": {},
   "source": [
    "The objective of this assignment is to apply Python data analysis skills using Pandas and NumPy to explore, filter, aggregate, and analyze real-world COVID-19 case data."
   ]
  },
  {
   "cell_type": "markdown",
   "id": "ea9f9e3b",
   "metadata": {},
   "source": [
    "Assignment Details:\n",
    "1. You are provided with the dataset country_wise_latest.csv (from Kaggle’s COVID-19 Dataset). Build a Python program using classes and inheritance to implement the following tasks given in the requirement.\n",
    "https://www.kaggle.com/datasets/imdevskp/corona-virus-report"
   ]
  },
  {
   "cell_type": "markdown",
   "id": "33b13382",
   "metadata": {},
   "source": [
    "Requirements:\n",
    "1. Summarize Case Counts by Region\n",
    "    Display total confirmed, death, and recovered cases for each region.\n",
    "2. Filter Low Case Records\n",
    "    Exclude entries where confirmed cases are < 10.\n",
    "3. Identify Region with Highest Confirmed Cases\n",
    "4. Sort Data by Confirmed Cases\n",
    "    Save sorted dataset into a new CSV file.\n",
    "5. Top 5 Countries by Case Count\n",
    "6. Region with Lowest Death Count\n",
    "7. India’s Case Summary (as of April 29, 2020)\n",
    "8. Calculate Mortality Rate by Region\n",
    "    Death-to-confirmed case ratio.\n",
    "9. Compare Recovery Rates Across Regions\n",
    "10. Detect Outliers in Case Counts\n",
    "    Use mean ± 2*std deviation.\n",
    "11. Group Data by Country and Region\n",
    "12. Identify Regions with Zero Recovered Cases"
   ]
  },
  {
   "cell_type": "code",
   "execution_count": 1,
   "id": "a37cd74c",
   "metadata": {},
   "outputs": [],
   "source": [
    "import pandas as pd\n",
    "import numpy as np"
   ]
  },
  {
   "cell_type": "code",
   "execution_count": 8,
   "id": "fd68e4aa",
   "metadata": {},
   "outputs": [],
   "source": [
    "data = pd.read_csv('country_wise_latest.csv')\n",
    "df = pd.DataFrame(data)"
   ]
  },
  {
   "cell_type": "markdown",
   "id": "09a82b77",
   "metadata": {},
   "source": [
    "Region wise total confirmed, death, and recovered covid cases"
   ]
  },
  {
   "cell_type": "code",
   "execution_count": 12,
   "id": "505bb50d",
   "metadata": {},
   "outputs": [
    {
     "data": {
      "text/html": [
       "<div>\n",
       "<style scoped>\n",
       "    .dataframe tbody tr th:only-of-type {\n",
       "        vertical-align: middle;\n",
       "    }\n",
       "\n",
       "    .dataframe tbody tr th {\n",
       "        vertical-align: top;\n",
       "    }\n",
       "\n",
       "    .dataframe thead th {\n",
       "        text-align: right;\n",
       "    }\n",
       "</style>\n",
       "<table border=\"1\" class=\"dataframe\">\n",
       "  <thead>\n",
       "    <tr style=\"text-align: right;\">\n",
       "      <th></th>\n",
       "      <th>Confirmed</th>\n",
       "      <th>Deaths</th>\n",
       "      <th>Recovered</th>\n",
       "    </tr>\n",
       "    <tr>\n",
       "      <th>WHO Region</th>\n",
       "      <th></th>\n",
       "      <th></th>\n",
       "      <th></th>\n",
       "    </tr>\n",
       "  </thead>\n",
       "  <tbody>\n",
       "    <tr>\n",
       "      <th>Africa</th>\n",
       "      <td>723207</td>\n",
       "      <td>12223</td>\n",
       "      <td>440645</td>\n",
       "    </tr>\n",
       "    <tr>\n",
       "      <th>Americas</th>\n",
       "      <td>8839286</td>\n",
       "      <td>342732</td>\n",
       "      <td>4468616</td>\n",
       "    </tr>\n",
       "    <tr>\n",
       "      <th>Eastern Mediterranean</th>\n",
       "      <td>1490744</td>\n",
       "      <td>38339</td>\n",
       "      <td>1201400</td>\n",
       "    </tr>\n",
       "    <tr>\n",
       "      <th>Europe</th>\n",
       "      <td>3299523</td>\n",
       "      <td>211144</td>\n",
       "      <td>1993723</td>\n",
       "    </tr>\n",
       "    <tr>\n",
       "      <th>South-East Asia</th>\n",
       "      <td>1835297</td>\n",
       "      <td>41349</td>\n",
       "      <td>1156933</td>\n",
       "    </tr>\n",
       "    <tr>\n",
       "      <th>Western Pacific</th>\n",
       "      <td>292428</td>\n",
       "      <td>8249</td>\n",
       "      <td>206770</td>\n",
       "    </tr>\n",
       "  </tbody>\n",
       "</table>\n",
       "</div>"
      ],
      "text/plain": [
       "                       Confirmed  Deaths  Recovered\n",
       "WHO Region                                         \n",
       "Africa                    723207   12223     440645\n",
       "Americas                 8839286  342732    4468616\n",
       "Eastern Mediterranean    1490744   38339    1201400\n",
       "Europe                   3299523  211144    1993723\n",
       "South-East Asia          1835297   41349    1156933\n",
       "Western Pacific           292428    8249     206770"
      ]
     },
     "execution_count": 12,
     "metadata": {},
     "output_type": "execute_result"
    }
   ],
   "source": [
    "df.groupby(\"WHO Region\")[[\"Confirmed\",\"Deaths\",\"Recovered\"]].sum()"
   ]
  },
  {
   "cell_type": "markdown",
   "id": "16ecd6f3",
   "metadata": {},
   "source": [
    "Details of Lowest confirmed covid cases:"
   ]
  },
  {
   "cell_type": "code",
   "execution_count": 14,
   "id": "c1f67167",
   "metadata": {},
   "outputs": [
    {
     "data": {
      "text/html": [
       "<div>\n",
       "<style scoped>\n",
       "    .dataframe tbody tr th:only-of-type {\n",
       "        vertical-align: middle;\n",
       "    }\n",
       "\n",
       "    .dataframe tbody tr th {\n",
       "        vertical-align: top;\n",
       "    }\n",
       "\n",
       "    .dataframe thead th {\n",
       "        text-align: right;\n",
       "    }\n",
       "</style>\n",
       "<table border=\"1\" class=\"dataframe\">\n",
       "  <thead>\n",
       "    <tr style=\"text-align: right;\">\n",
       "      <th></th>\n",
       "      <th>Country/Region</th>\n",
       "      <th>Confirmed</th>\n",
       "      <th>Deaths</th>\n",
       "      <th>Recovered</th>\n",
       "      <th>Active</th>\n",
       "      <th>New cases</th>\n",
       "      <th>New deaths</th>\n",
       "      <th>New recovered</th>\n",
       "      <th>Deaths / 100 Cases</th>\n",
       "      <th>Recovered / 100 Cases</th>\n",
       "      <th>Deaths / 100 Recovered</th>\n",
       "      <th>Confirmed last week</th>\n",
       "      <th>1 week change</th>\n",
       "      <th>1 week % increase</th>\n",
       "      <th>WHO Region</th>\n",
       "    </tr>\n",
       "  </thead>\n",
       "  <tbody>\n",
       "    <tr>\n",
       "      <th>183</th>\n",
       "      <td>Western Sahara</td>\n",
       "      <td>10</td>\n",
       "      <td>1</td>\n",
       "      <td>8</td>\n",
       "      <td>1</td>\n",
       "      <td>0</td>\n",
       "      <td>0</td>\n",
       "      <td>0</td>\n",
       "      <td>10.0</td>\n",
       "      <td>80.0</td>\n",
       "      <td>12.5</td>\n",
       "      <td>10</td>\n",
       "      <td>0</td>\n",
       "      <td>0.0</td>\n",
       "      <td>Africa</td>\n",
       "    </tr>\n",
       "  </tbody>\n",
       "</table>\n",
       "</div>"
      ],
      "text/plain": [
       "     Country/Region  Confirmed  Deaths  Recovered  Active  New cases  \\\n",
       "183  Western Sahara         10       1          8       1          0   \n",
       "\n",
       "     New deaths  New recovered  Deaths / 100 Cases  Recovered / 100 Cases  \\\n",
       "183           0              0                10.0                   80.0   \n",
       "\n",
       "     Deaths / 100 Recovered  Confirmed last week  1 week change  \\\n",
       "183                    12.5                   10              0   \n",
       "\n",
       "     1 week % increase WHO Region  \n",
       "183                0.0     Africa  "
      ]
     },
     "execution_count": 14,
     "metadata": {},
     "output_type": "execute_result"
    }
   ],
   "source": [
    "lowest_confirmed_case = df[\"Confirmed\"].min()\n",
    "df[df['Confirmed'] <= lowest_confirmed_case]"
   ]
  },
  {
   "cell_type": "markdown",
   "id": "4f71f005",
   "metadata": {},
   "source": [
    "Region with highest covid case"
   ]
  },
  {
   "cell_type": "code",
   "execution_count": 15,
   "id": "6e3e873e",
   "metadata": {},
   "outputs": [
    {
     "data": {
      "text/plain": [
       "'Americas'"
      ]
     },
     "execution_count": 15,
     "metadata": {},
     "output_type": "execute_result"
    }
   ],
   "source": [
    "highest_confirmed_case = df.groupby(\"WHO Region\")[\"Confirmed\"].sum()\n",
    "highest_confirmed_case.idxmax()"
   ]
  },
  {
   "cell_type": "markdown",
   "id": "9733e60f",
   "metadata": {},
   "source": [
    "Sorted data saved to file - sorted_covid_case_results.csv"
   ]
  },
  {
   "cell_type": "code",
   "execution_count": 16,
   "id": "2fc38334",
   "metadata": {},
   "outputs": [],
   "source": [
    "sorted_df = df.sort_values(by=['Confirmed'])\n",
    "sorted_df.to_csv((\"sorted_covid_case_results.csv\"), index=False)"
   ]
  },
  {
   "cell_type": "markdown",
   "id": "91ed3ac3",
   "metadata": {},
   "source": [
    "Top 5 Countries with highest covid cases"
   ]
  },
  {
   "cell_type": "code",
   "execution_count": 17,
   "id": "75b55007",
   "metadata": {},
   "outputs": [
    {
     "data": {
      "text/html": [
       "<div>\n",
       "<style scoped>\n",
       "    .dataframe tbody tr th:only-of-type {\n",
       "        vertical-align: middle;\n",
       "    }\n",
       "\n",
       "    .dataframe tbody tr th {\n",
       "        vertical-align: top;\n",
       "    }\n",
       "\n",
       "    .dataframe thead th {\n",
       "        text-align: right;\n",
       "    }\n",
       "</style>\n",
       "<table border=\"1\" class=\"dataframe\">\n",
       "  <thead>\n",
       "    <tr style=\"text-align: right;\">\n",
       "      <th></th>\n",
       "      <th>Country/Region</th>\n",
       "      <th>Confirmed</th>\n",
       "      <th>Deaths</th>\n",
       "      <th>Recovered</th>\n",
       "      <th>Active</th>\n",
       "      <th>New cases</th>\n",
       "      <th>New deaths</th>\n",
       "      <th>New recovered</th>\n",
       "      <th>Deaths / 100 Cases</th>\n",
       "      <th>Recovered / 100 Cases</th>\n",
       "      <th>Deaths / 100 Recovered</th>\n",
       "      <th>Confirmed last week</th>\n",
       "      <th>1 week change</th>\n",
       "      <th>1 week % increase</th>\n",
       "      <th>WHO Region</th>\n",
       "    </tr>\n",
       "  </thead>\n",
       "  <tbody>\n",
       "    <tr>\n",
       "      <th>173</th>\n",
       "      <td>US</td>\n",
       "      <td>4290259</td>\n",
       "      <td>148011</td>\n",
       "      <td>1325804</td>\n",
       "      <td>2816444</td>\n",
       "      <td>56336</td>\n",
       "      <td>1076</td>\n",
       "      <td>27941</td>\n",
       "      <td>3.45</td>\n",
       "      <td>30.90</td>\n",
       "      <td>11.16</td>\n",
       "      <td>3834677</td>\n",
       "      <td>455582</td>\n",
       "      <td>11.88</td>\n",
       "      <td>Americas</td>\n",
       "    </tr>\n",
       "    <tr>\n",
       "      <th>23</th>\n",
       "      <td>Brazil</td>\n",
       "      <td>2442375</td>\n",
       "      <td>87618</td>\n",
       "      <td>1846641</td>\n",
       "      <td>508116</td>\n",
       "      <td>23284</td>\n",
       "      <td>614</td>\n",
       "      <td>33728</td>\n",
       "      <td>3.59</td>\n",
       "      <td>75.61</td>\n",
       "      <td>4.74</td>\n",
       "      <td>2118646</td>\n",
       "      <td>323729</td>\n",
       "      <td>15.28</td>\n",
       "      <td>Americas</td>\n",
       "    </tr>\n",
       "    <tr>\n",
       "      <th>79</th>\n",
       "      <td>India</td>\n",
       "      <td>1480073</td>\n",
       "      <td>33408</td>\n",
       "      <td>951166</td>\n",
       "      <td>495499</td>\n",
       "      <td>44457</td>\n",
       "      <td>637</td>\n",
       "      <td>33598</td>\n",
       "      <td>2.26</td>\n",
       "      <td>64.26</td>\n",
       "      <td>3.51</td>\n",
       "      <td>1155338</td>\n",
       "      <td>324735</td>\n",
       "      <td>28.11</td>\n",
       "      <td>South-East Asia</td>\n",
       "    </tr>\n",
       "    <tr>\n",
       "      <th>138</th>\n",
       "      <td>Russia</td>\n",
       "      <td>816680</td>\n",
       "      <td>13334</td>\n",
       "      <td>602249</td>\n",
       "      <td>201097</td>\n",
       "      <td>5607</td>\n",
       "      <td>85</td>\n",
       "      <td>3077</td>\n",
       "      <td>1.63</td>\n",
       "      <td>73.74</td>\n",
       "      <td>2.21</td>\n",
       "      <td>776212</td>\n",
       "      <td>40468</td>\n",
       "      <td>5.21</td>\n",
       "      <td>Europe</td>\n",
       "    </tr>\n",
       "    <tr>\n",
       "      <th>154</th>\n",
       "      <td>South Africa</td>\n",
       "      <td>452529</td>\n",
       "      <td>7067</td>\n",
       "      <td>274925</td>\n",
       "      <td>170537</td>\n",
       "      <td>7096</td>\n",
       "      <td>298</td>\n",
       "      <td>9848</td>\n",
       "      <td>1.56</td>\n",
       "      <td>60.75</td>\n",
       "      <td>2.57</td>\n",
       "      <td>373628</td>\n",
       "      <td>78901</td>\n",
       "      <td>21.12</td>\n",
       "      <td>Africa</td>\n",
       "    </tr>\n",
       "  </tbody>\n",
       "</table>\n",
       "</div>"
      ],
      "text/plain": [
       "    Country/Region  Confirmed  Deaths  Recovered   Active  New cases  \\\n",
       "173             US    4290259  148011    1325804  2816444      56336   \n",
       "23          Brazil    2442375   87618    1846641   508116      23284   \n",
       "79           India    1480073   33408     951166   495499      44457   \n",
       "138         Russia     816680   13334     602249   201097       5607   \n",
       "154   South Africa     452529    7067     274925   170537       7096   \n",
       "\n",
       "     New deaths  New recovered  Deaths / 100 Cases  Recovered / 100 Cases  \\\n",
       "173        1076          27941                3.45                  30.90   \n",
       "23          614          33728                3.59                  75.61   \n",
       "79          637          33598                2.26                  64.26   \n",
       "138          85           3077                1.63                  73.74   \n",
       "154         298           9848                1.56                  60.75   \n",
       "\n",
       "     Deaths / 100 Recovered  Confirmed last week  1 week change  \\\n",
       "173                   11.16              3834677         455582   \n",
       "23                     4.74              2118646         323729   \n",
       "79                     3.51              1155338         324735   \n",
       "138                    2.21               776212          40468   \n",
       "154                    2.57               373628          78901   \n",
       "\n",
       "     1 week % increase       WHO Region  \n",
       "173              11.88         Americas  \n",
       "23               15.28         Americas  \n",
       "79               28.11  South-East Asia  \n",
       "138               5.21           Europe  \n",
       "154              21.12           Africa  "
      ]
     },
     "execution_count": 17,
     "metadata": {},
     "output_type": "execute_result"
    }
   ],
   "source": [
    "sorted_df = df.sort_values(by=['Confirmed'], ascending=False)\n",
    "sorted_df.head(5)"
   ]
  },
  {
   "cell_type": "markdown",
   "id": "4aa19e65",
   "metadata": {},
   "source": [
    "Region with lowest death count"
   ]
  },
  {
   "cell_type": "code",
   "execution_count": 18,
   "id": "3a34b4d3",
   "metadata": {},
   "outputs": [
    {
     "data": {
      "text/plain": [
       "'Western Pacific'"
      ]
     },
     "execution_count": 18,
     "metadata": {},
     "output_type": "execute_result"
    }
   ],
   "source": [
    "lowest_death_count = df.groupby(\"WHO Region\")[\"Deaths\"].sum()\n",
    "lowest_death_count.idxmin()"
   ]
  },
  {
   "cell_type": "markdown",
   "id": "9d3711d5",
   "metadata": {},
   "source": [
    "India's case summary"
   ]
  },
  {
   "cell_type": "code",
   "execution_count": 19,
   "id": "780d0930",
   "metadata": {},
   "outputs": [
    {
     "data": {
      "text/html": [
       "<div>\n",
       "<style scoped>\n",
       "    .dataframe tbody tr th:only-of-type {\n",
       "        vertical-align: middle;\n",
       "    }\n",
       "\n",
       "    .dataframe tbody tr th {\n",
       "        vertical-align: top;\n",
       "    }\n",
       "\n",
       "    .dataframe thead th {\n",
       "        text-align: right;\n",
       "    }\n",
       "</style>\n",
       "<table border=\"1\" class=\"dataframe\">\n",
       "  <thead>\n",
       "    <tr style=\"text-align: right;\">\n",
       "      <th></th>\n",
       "      <th>Confirmed</th>\n",
       "      <th>Deaths</th>\n",
       "      <th>Recovered</th>\n",
       "    </tr>\n",
       "  </thead>\n",
       "  <tbody>\n",
       "    <tr>\n",
       "      <th>79</th>\n",
       "      <td>1480073</td>\n",
       "      <td>33408</td>\n",
       "      <td>951166</td>\n",
       "    </tr>\n",
       "  </tbody>\n",
       "</table>\n",
       "</div>"
      ],
      "text/plain": [
       "    Confirmed  Deaths  Recovered\n",
       "79    1480073   33408     951166"
      ]
     },
     "execution_count": 19,
     "metadata": {},
     "output_type": "execute_result"
    }
   ],
   "source": [
    "India_df = df[df['Country/Region'] == 'India']\n",
    "India_df[[\"Confirmed\",\"Deaths\",\"Recovered\"]]"
   ]
  },
  {
   "cell_type": "markdown",
   "id": "837b449c",
   "metadata": {},
   "source": [
    "Mortality Rate by Region"
   ]
  },
  {
   "cell_type": "code",
   "execution_count": 20,
   "id": "da787c96",
   "metadata": {},
   "outputs": [
    {
     "data": {
      "text/plain": [
       "WHO Region\n",
       "Africa                   0.016901\n",
       "Americas                 0.038774\n",
       "Eastern Mediterranean    0.025718\n",
       "Europe                   0.063992\n",
       "South-East Asia          0.022530\n",
       "Western Pacific          0.028209\n",
       "dtype: float64"
      ]
     },
     "execution_count": 20,
     "metadata": {},
     "output_type": "execute_result"
    }
   ],
   "source": [
    "region_wise_summary_df = df.groupby(\"WHO Region\")[[\"Confirmed\",\"Deaths\",\"Recovered\"]].sum()\n",
    "region_wise_summary_df['Deaths']/region_wise_summary_df['Confirmed']"
   ]
  },
  {
   "cell_type": "markdown",
   "id": "08221472",
   "metadata": {},
   "source": [
    "Recovery Rate by Region"
   ]
  },
  {
   "cell_type": "code",
   "execution_count": 21,
   "id": "708fe40e",
   "metadata": {},
   "outputs": [
    {
     "data": {
      "text/plain": [
       "WHO Region\n",
       "Africa                   0.609293\n",
       "Americas                 0.505540\n",
       "Eastern Mediterranean    0.805906\n",
       "Europe                   0.604246\n",
       "South-East Asia          0.630379\n",
       "Western Pacific          0.707080\n",
       "dtype: float64"
      ]
     },
     "execution_count": 21,
     "metadata": {},
     "output_type": "execute_result"
    }
   ],
   "source": [
    "region_wise_summary_df['Recovered']/region_wise_summary_df['Confirmed']"
   ]
  },
  {
   "cell_type": "markdown",
   "id": "e0ff0c0e",
   "metadata": {},
   "source": [
    "Outliers in case count"
   ]
  },
  {
   "cell_type": "code",
   "execution_count": 24,
   "id": "ee666436",
   "metadata": {},
   "outputs": [
    {
     "data": {
      "text/html": [
       "<div>\n",
       "<style scoped>\n",
       "    .dataframe tbody tr th:only-of-type {\n",
       "        vertical-align: middle;\n",
       "    }\n",
       "\n",
       "    .dataframe tbody tr th {\n",
       "        vertical-align: top;\n",
       "    }\n",
       "\n",
       "    .dataframe thead th {\n",
       "        text-align: right;\n",
       "    }\n",
       "</style>\n",
       "<table border=\"1\" class=\"dataframe\">\n",
       "  <thead>\n",
       "    <tr style=\"text-align: right;\">\n",
       "      <th></th>\n",
       "      <th>Country/Region</th>\n",
       "      <th>Confirmed</th>\n",
       "    </tr>\n",
       "  </thead>\n",
       "  <tbody>\n",
       "    <tr>\n",
       "      <th>23</th>\n",
       "      <td>Brazil</td>\n",
       "      <td>2442375</td>\n",
       "    </tr>\n",
       "    <tr>\n",
       "      <th>79</th>\n",
       "      <td>India</td>\n",
       "      <td>1480073</td>\n",
       "    </tr>\n",
       "    <tr>\n",
       "      <th>173</th>\n",
       "      <td>US</td>\n",
       "      <td>4290259</td>\n",
       "    </tr>\n",
       "  </tbody>\n",
       "</table>\n",
       "</div>"
      ],
      "text/plain": [
       "    Country/Region  Confirmed\n",
       "23          Brazil    2442375\n",
       "79           India    1480073\n",
       "173             US    4290259"
      ]
     },
     "execution_count": 24,
     "metadata": {},
     "output_type": "execute_result"
    }
   ],
   "source": [
    "mean = df[\"Confirmed\"].mean()\n",
    "std = df[\"Confirmed\"].std()\n",
    "lower = mean - 2 * std\n",
    "upper = mean + 2 * std\n",
    "outlier_df = df[(df[\"Confirmed\"] < lower) | (df[\"Confirmed\"] > upper)]\n",
    "outlier_df[[\"Country/Region\",\"Confirmed\"]]"
   ]
  },
  {
   "cell_type": "markdown",
   "id": "5c5a8e92",
   "metadata": {},
   "source": [
    "Group Covid case by Country and Region"
   ]
  },
  {
   "cell_type": "code",
   "execution_count": 22,
   "id": "79c39baf",
   "metadata": {},
   "outputs": [
    {
     "data": {
      "text/plain": [
       "Country/Region      WHO Region           \n",
       "Afghanistan         Eastern Mediterranean    36263\n",
       "Albania             Europe                    4880\n",
       "Algeria             Africa                   27973\n",
       "Andorra             Europe                     907\n",
       "Angola              Africa                     950\n",
       "                                             ...  \n",
       "West Bank and Gaza  Eastern Mediterranean    10621\n",
       "Western Sahara      Africa                      10\n",
       "Yemen               Eastern Mediterranean     1691\n",
       "Zambia              Africa                    4552\n",
       "Zimbabwe            Africa                    2704\n",
       "Name: Confirmed, Length: 187, dtype: int64"
      ]
     },
     "execution_count": 22,
     "metadata": {},
     "output_type": "execute_result"
    }
   ],
   "source": [
    "df.groupby([\"Country/Region\",\"WHO Region\"])[\"Confirmed\"].sum()"
   ]
  },
  {
   "cell_type": "markdown",
   "id": "18567c06",
   "metadata": {},
   "source": [
    "Region with zero Recovered cases"
   ]
  },
  {
   "cell_type": "code",
   "execution_count": 23,
   "id": "7d49a67d",
   "metadata": {},
   "outputs": [
    {
     "data": {
      "text/html": [
       "<div>\n",
       "<style scoped>\n",
       "    .dataframe tbody tr th:only-of-type {\n",
       "        vertical-align: middle;\n",
       "    }\n",
       "\n",
       "    .dataframe tbody tr th {\n",
       "        vertical-align: top;\n",
       "    }\n",
       "\n",
       "    .dataframe thead th {\n",
       "        text-align: right;\n",
       "    }\n",
       "</style>\n",
       "<table border=\"1\" class=\"dataframe\">\n",
       "  <thead>\n",
       "    <tr style=\"text-align: right;\">\n",
       "      <th></th>\n",
       "      <th>Country/Region</th>\n",
       "      <th>WHO Region</th>\n",
       "    </tr>\n",
       "  </thead>\n",
       "  <tbody>\n",
       "    <tr>\n",
       "      <th>32</th>\n",
       "      <td>Canada</td>\n",
       "      <td>Americas</td>\n",
       "    </tr>\n",
       "    <tr>\n",
       "      <th>117</th>\n",
       "      <td>Mozambique</td>\n",
       "      <td>Africa</td>\n",
       "    </tr>\n",
       "    <tr>\n",
       "      <th>147</th>\n",
       "      <td>Serbia</td>\n",
       "      <td>Europe</td>\n",
       "    </tr>\n",
       "    <tr>\n",
       "      <th>161</th>\n",
       "      <td>Sweden</td>\n",
       "      <td>Europe</td>\n",
       "    </tr>\n",
       "    <tr>\n",
       "      <th>163</th>\n",
       "      <td>Syria</td>\n",
       "      <td>Eastern Mediterranean</td>\n",
       "    </tr>\n",
       "    <tr>\n",
       "      <th>168</th>\n",
       "      <td>Timor-Leste</td>\n",
       "      <td>South-East Asia</td>\n",
       "    </tr>\n",
       "  </tbody>\n",
       "</table>\n",
       "</div>"
      ],
      "text/plain": [
       "    Country/Region             WHO Region\n",
       "32          Canada               Americas\n",
       "117     Mozambique                 Africa\n",
       "147         Serbia                 Europe\n",
       "161         Sweden                 Europe\n",
       "163          Syria  Eastern Mediterranean\n",
       "168    Timor-Leste        South-East Asia"
      ]
     },
     "execution_count": 23,
     "metadata": {},
     "output_type": "execute_result"
    }
   ],
   "source": [
    "recovered_df = df[df['Recovered'] == 0]\n",
    "recovered_df[[\"Country/Region\",\"WHO Region\"]]"
   ]
  }
 ],
 "metadata": {
  "kernelspec": {
   "display_name": "base",
   "language": "python",
   "name": "python3"
  },
  "language_info": {
   "codemirror_mode": {
    "name": "ipython",
    "version": 3
   },
   "file_extension": ".py",
   "mimetype": "text/x-python",
   "name": "python",
   "nbconvert_exporter": "python",
   "pygments_lexer": "ipython3",
   "version": "3.12.4"
  }
 },
 "nbformat": 4,
 "nbformat_minor": 5
}
