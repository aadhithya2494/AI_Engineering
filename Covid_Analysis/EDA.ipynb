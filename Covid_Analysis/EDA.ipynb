{
 "cells": [
  {
   "cell_type": "code",
   "execution_count": 1,
   "id": "c8105d8a",
   "metadata": {},
   "outputs": [],
   "source": [
    "import import_ipynb\n",
    "import Covid_analysis"
   ]
  },
  {
   "cell_type": "markdown",
   "id": "d3f8f2b0",
   "metadata": {},
   "source": [
    "Assignment Details:\n",
    "\n",
    "Use the existing COVID-19 dataset (country_wise_latest.csv) and focus on the\n",
    "\n",
    "following two numerical features:\n",
    "\n",
    " Confirmed Cases\n",
    "\n",
    " New Cases\n",
    "\n",
    "You are required to perform the following tasks step-by-step:\n",
    "\n",
    "1. Create a class CovidEDA to perform the below operations.\n",
    "\n",
    "o Load the dataset using Pandas.\n",
    "\n",
    "o Keep only the columns Confirmed and New cases for analysis.\n",
    "\n",
    "2. Compute Statistical Measures o Calculate and print:\n",
    "\n",
    " Mean\n",
    "\n",
    " Median\n",
    "\n",
    " Variance\n",
    "\n",
    " Standard Deviation\n",
    "\n",
    " Correlation Matrix (between Confirmed and New cases)\n",
    "\n",
    "3. Outlier Detection using IQR Technique\n",
    "\n",
    "o Identify outliers in both Confirmed and New cases.\n",
    "\n",
    "o Remove the outliers and store the cleaned data in a new DataFrame. \n",
    "\n",
    "o Display the cleaned dataset.\n",
    "\n",
    "4. Normalization using Standard Scaler\n",
    "o Apply StandardScaler from sklearn.preprocessing to normalize the\n",
    "Confirmed and New Cases.\n",
    "\n",
    "o Display the scaled (normalized) output as a new DataFrame.\n",
    "\n",
    "5. Visualization Tasks\n",
    "\n",
    "o Plot Histograms for Confirmed and New cases (before and after\n",
    "normalization) using Seaborn, to visualize the bell curve.\n",
    "\n",
    " o Plot a Heatmap between Confirmed and New cases to display their correlation visually."
   ]
  },
  {
   "cell_type": "code",
   "execution_count": 2,
   "id": "7a254b0a",
   "metadata": {},
   "outputs": [
    {
     "name": "stdout",
     "output_type": "stream",
     "text": [
      "  Country/Region  Confirmed  Deaths  Recovered  Active  New cases  New deaths  \\\n",
      "0    Afghanistan      36263    1269      25198    9796        106          10   \n",
      "1        Albania       4880     144       2745    1991        117           6   \n",
      "2        Algeria      27973    1163      18837    7973        616           8   \n",
      "3        Andorra        907      52        803      52         10           0   \n",
      "4         Angola        950      41        242     667         18           1   \n",
      "\n",
      "   New recovered  Deaths / 100 Cases  Recovered / 100 Cases  \\\n",
      "0             18                3.50                  69.49   \n",
      "1             63                2.95                  56.25   \n",
      "2            749                4.16                  67.34   \n",
      "3              0                5.73                  88.53   \n",
      "4              0                4.32                  25.47   \n",
      "\n",
      "   Deaths / 100 Recovered  Confirmed last week  1 week change  \\\n",
      "0                    5.04                35526            737   \n",
      "1                    5.25                 4171            709   \n",
      "2                    6.17                23691           4282   \n",
      "3                    6.48                  884             23   \n",
      "4                   16.94                  749            201   \n",
      "\n",
      "   1 week % increase             WHO Region  \n",
      "0               2.07  Eastern Mediterranean  \n",
      "1              17.00                 Europe  \n",
      "2              18.07                 Africa  \n",
      "3               2.60                 Europe  \n",
      "4              26.84                 Africa  \n"
     ]
    }
   ],
   "source": [
    "import pandas as pd\n",
    "import matplotlib.pyplot as plt\n",
    "\n",
    "data = pd.read_csv('country_wise_latest.csv')\n",
    "df = pd.DataFrame(data)\n",
    "print(df.head())\n"
   ]
  },
  {
   "cell_type": "code",
   "execution_count": 5,
   "id": "b5eaaebc",
   "metadata": {},
   "outputs": [
    {
     "data": {
      "text/html": [
       "<div>\n",
       "<style scoped>\n",
       "    .dataframe tbody tr th:only-of-type {\n",
       "        vertical-align: middle;\n",
       "    }\n",
       "\n",
       "    .dataframe tbody tr th {\n",
       "        vertical-align: top;\n",
       "    }\n",
       "\n",
       "    .dataframe thead th {\n",
       "        text-align: right;\n",
       "    }\n",
       "</style>\n",
       "<table border=\"1\" class=\"dataframe\">\n",
       "  <thead>\n",
       "    <tr style=\"text-align: right;\">\n",
       "      <th></th>\n",
       "      <th>Confirmed</th>\n",
       "      <th>New cases</th>\n",
       "    </tr>\n",
       "  </thead>\n",
       "  <tbody>\n",
       "    <tr>\n",
       "      <th>count</th>\n",
       "      <td>1.870000e+02</td>\n",
       "      <td>187.000000</td>\n",
       "    </tr>\n",
       "    <tr>\n",
       "      <th>mean</th>\n",
       "      <td>8.813094e+04</td>\n",
       "      <td>1222.957219</td>\n",
       "    </tr>\n",
       "    <tr>\n",
       "      <th>std</th>\n",
       "      <td>3.833187e+05</td>\n",
       "      <td>5710.374790</td>\n",
       "    </tr>\n",
       "    <tr>\n",
       "      <th>min</th>\n",
       "      <td>1.000000e+01</td>\n",
       "      <td>0.000000</td>\n",
       "    </tr>\n",
       "    <tr>\n",
       "      <th>25%</th>\n",
       "      <td>1.114000e+03</td>\n",
       "      <td>4.000000</td>\n",
       "    </tr>\n",
       "    <tr>\n",
       "      <th>50%</th>\n",
       "      <td>5.059000e+03</td>\n",
       "      <td>49.000000</td>\n",
       "    </tr>\n",
       "    <tr>\n",
       "      <th>75%</th>\n",
       "      <td>4.046050e+04</td>\n",
       "      <td>419.500000</td>\n",
       "    </tr>\n",
       "    <tr>\n",
       "      <th>max</th>\n",
       "      <td>4.290259e+06</td>\n",
       "      <td>56336.000000</td>\n",
       "    </tr>\n",
       "  </tbody>\n",
       "</table>\n",
       "</div>"
      ],
      "text/plain": [
       "          Confirmed     New cases\n",
       "count  1.870000e+02    187.000000\n",
       "mean   8.813094e+04   1222.957219\n",
       "std    3.833187e+05   5710.374790\n",
       "min    1.000000e+01      0.000000\n",
       "25%    1.114000e+03      4.000000\n",
       "50%    5.059000e+03     49.000000\n",
       "75%    4.046050e+04    419.500000\n",
       "max    4.290259e+06  56336.000000"
      ]
     },
     "execution_count": 5,
     "metadata": {},
     "output_type": "execute_result"
    }
   ],
   "source": [
    "columns_to_keep = [\"Confirmed\", \"New cases\"]\n",
    "cleaned_df = df[columns_to_keep]\n",
    "cleaned_df.describe()"
   ]
  },
  {
   "cell_type": "markdown",
   "id": "6631a528",
   "metadata": {},
   "source": [
    " Mean\n",
    "\n",
    " Median\n",
    "\n",
    " Variance\n",
    "\n",
    " Standard Deviation\n",
    "\n",
    " Correlation Matrix (between Confirmed and New cases)"
   ]
  },
  {
   "cell_type": "code",
   "execution_count": 6,
   "id": "df041e30",
   "metadata": {},
   "outputs": [
    {
     "name": "stdout",
     "output_type": "stream",
     "text": [
      "Mean:\n",
      "Confirmed    88130.935829\n",
      "New cases     1222.957219\n",
      "dtype: float64\n",
      "\n",
      "Median:\n",
      "Confirmed    5059.0\n",
      "New cases      49.0\n",
      "dtype: float64\n",
      "\n",
      "Variance:\n",
      "Confirmed    1.469332e+11\n",
      "New cases    3.260838e+07\n",
      "dtype: float64\n",
      "\n",
      "Standard Deviation:\n",
      "Confirmed    383318.663831\n",
      "New cases      5710.374790\n",
      "dtype: float64\n",
      "\n",
      "Correlation Matrix:\n",
      "           Confirmed  New cases\n",
      "Confirmed    1.00000    0.90972\n",
      "New cases    0.90972    1.00000\n",
      "\n"
     ]
    }
   ],
   "source": [
    "print(f\"Mean:\\n{cleaned_df.mean()}\\n\")\n",
    "print(f\"Median:\\n{cleaned_df.median()}\\n\")\n",
    "print(f\"Variance:\\n{cleaned_df.var()}\\n\")\n",
    "print(f\"Standard Deviation:\\n{cleaned_df.std()}\\n\")\n",
    "print(f\"Correlation Matrix:\\n{cleaned_df.corr()}\\n\")"
   ]
  },
  {
   "cell_type": "markdown",
   "id": "26d38865",
   "metadata": {},
   "source": [
    "Outlier detection and removal"
   ]
  },
  {
   "cell_type": "code",
   "execution_count": 11,
   "id": "99d0171e",
   "metadata": {},
   "outputs": [
    {
     "name": "stdout",
     "output_type": "stream",
     "text": [
      "Q1:\n",
      "Confirmed    1114.0\n",
      "New cases       4.0\n",
      "Name: 0.25, dtype: float64\n",
      "\n",
      "Q3:\n",
      "Confirmed    40460.5\n",
      "New cases      419.5\n",
      "Name: 0.75, dtype: float64\n",
      "\n",
      "IQR:\n",
      "Confirmed    39346.5\n",
      "New cases      415.5\n",
      "dtype: float64\n",
      "\n",
      "Lower Bound:\n",
      "Confirmed   -57905.75\n",
      "New cases     -619.25\n",
      "dtype: float64\n",
      "\n",
      "Upper Bound:\n",
      "Confirmed    99480.25\n",
      "New cases     1042.75\n",
      "dtype: float64\n",
      "\n"
     ]
    }
   ],
   "source": [
    "Q1 = cleaned_df.quantile(0.25)\n",
    "Q3 = cleaned_df.quantile(0.75)\n",
    "IQR = Q3 - Q1\n",
    "print(f\"Q1:\\n{Q1}\\n\")\n",
    "print(f\"Q3:\\n{Q3}\\n\")\n",
    "print(f\"IQR:\\n{IQR}\\n\")\n",
    "\n",
    "lower_bound = Q1 - 1.5 * IQR\n",
    "upper_bound = Q3 + 1.5 * IQR\n",
    "print(f\"Lower Bound:\\n{lower_bound}\\n\")\n",
    "print(f\"Upper Bound:\\n{upper_bound}\\n\")\n",
    "\n",
    "mask = ~((cleaned_df < lower_bound) | (cleaned_df > upper_bound))\n",
    "outliers = cleaned_df[~mask]\n",
    "outlier_removed_df = cleaned_df[mask]\n"
   ]
  },
  {
   "cell_type": "code",
   "execution_count": 13,
   "id": "30cdd2a7",
   "metadata": {},
   "outputs": [
    {
     "name": "stdout",
     "output_type": "stream",
     "text": [
      "       Confirmed_scaled  New_cases_scaled\n",
      "count      1.630000e+02      1.620000e+02\n",
      "mean      -2.724474e-18      6.442035e-17\n",
      "std        1.003082e+00      1.003101e+00\n",
      "min       -6.604657e-01     -6.719685e-01\n",
      "25%       -6.228884e-01     -6.626647e-01\n",
      "50%       -5.167582e-01     -5.486934e-01\n",
      "75%        1.060543e-01      2.211945e-01\n",
      "max        3.382405e+00      3.603119e+00\n"
     ]
    }
   ],
   "source": [
    "from sklearn.preprocessing import StandardScaler\n",
    "scaler = StandardScaler()\n",
    "scaled_array = scaler.fit_transform(outlier_removed_df)\n",
    "\n",
    "scaled_df = pd.DataFrame(\n",
    "                scaled_array,\n",
    "                columns=[\"Confirmed_scaled\", \"New_cases_scaled\"]\n",
    "            )\n",
    "\n",
    "print(scaled_df.describe())"
   ]
  },
  {
   "cell_type": "code",
   "execution_count": 14,
   "id": "e9a78585",
   "metadata": {},
   "outputs": [],
   "source": [
    "import seaborn as sns\n",
    "import matplotlib.pyplot as plt"
   ]
  },
  {
   "cell_type": "code",
   "execution_count": null,
   "id": "9df0200b",
   "metadata": {},
   "outputs": [
    {
     "data": {
      "image/png": "[encoded data removed]",
      "text/plain": [
       "<Figure size 1200x600 with 1 Axes>"
      ]
     },
     "metadata": {},
     "output_type": "display_data"
    }
   ],
   "source": [
    "plt.figure(figsize=(12, 6))\n",
    "\n",
    "\n",
    "plt.subplot(1, 2, 1)\n",
    "sns.histplot(cleaned_df[\"Confirmed\"], kde=True, color=\"skyblue\", label=\"Confirmed\")\n",
    "sns.histplot(cleaned_df[\"New cases\"], kde=True, color=\"orange\", label=\"New cases\")\n",
    "plt.title(\"Before Normalization (Confirmed & New cases)\")\n",
    "plt.legend()\n",
    "\n",
    "\n",
    "plt.tight_layout()\n",
    "plt.show()"
   ]
  },
  {
   "cell_type": "code",
   "execution_count": 19,
   "id": "cad87260",
   "metadata": {},
   "outputs": [
    {
     "data": {
      "image/png": "[encoded data removed]",
      "text/plain": [
       "<Figure size 500x400 with 2 Axes>"
      ]
     },
     "metadata": {},
     "output_type": "display_data"
    }
   ],
   "source": [
    "plt.figure(figsize=(5, 4))\n",
    "sns.heatmap(cleaned_df.corr(), annot=True, cmap=\"coolwarm\", fmt=\".2f\")\n",
    "plt.title(\"Heatmap: Correlation between Confirmed and New Cases\")\n",
    "plt.show()"
   ]
  }
 ],
 "metadata": {
  "kernelspec": {
   "display_name": "base",
   "language": "python",
   "name": "python3"
  },
  "language_info": {
   "codemirror_mode": {
    "name": "ipython",
    "version": 3
   },
   "file_extension": ".py",
   "mimetype": "text/x-python",
   "name": "python",
   "nbconvert_exporter": "python",
   "pygments_lexer": "ipython3",
   "version": "3.12.4"
  }
 },
 "nbformat": 4,
 "nbformat_minor": 5
}
